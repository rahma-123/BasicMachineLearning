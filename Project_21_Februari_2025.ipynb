{
  "nbformat": 4,
  "nbformat_minor": 0,
  "metadata": {
    "colab": {
      "provenance": [],
      "authorship_tag": "ABX9TyPZwMP3lA9yDaHCDmoKS0yT",
      "include_colab_link": true
    },
    "kernelspec": {
      "name": "python3",
      "display_name": "Python 3"
    },
    "language_info": {
      "name": "python"
    }
  },
  "cells": [
    {
      "cell_type": "markdown",
      "metadata": {
        "id": "view-in-github",
        "colab_type": "text"
      },
      "source": [
        "<a href=\"https://colab.research.google.com/github/rahma-123/BasicMechineLearning/blob/main/Project_21_Februari_2025.ipynb\" target=\"_parent\"><img src=\"https://colab.research.google.com/assets/colab-badge.svg\" alt=\"Open In Colab\"/></a>"
      ]
    },
    {
      "cell_type": "markdown",
      "source": [
        "## **SOAL** **LATIHAN** **1**"
      ],
      "metadata": {
        "id": "5oIuFBzjsbEK"
      }
    },
    {
      "cell_type": "markdown",
      "source": [
        "# New Section"
      ],
      "metadata": {
        "id": "UjV1FLWVWuT7"
      }
    },
    {
      "cell_type": "code",
      "source": [
        "pip install numpy pandas matplotlib seaborn scikit-learn"
      ],
      "metadata": {
        "colab": {
          "base_uri": "https://localhost:8080/"
        },
        "id": "9uBkgCj5lA8g",
        "outputId": "7ef2bf71-cb3a-40cb-acde-ff10e60dbfac"
      },
      "execution_count": null,
      "outputs": [
        {
          "output_type": "stream",
          "name": "stdout",
          "text": [
            "Requirement already satisfied: numpy in /usr/local/lib/python3.11/dist-packages (1.26.4)\n",
            "Requirement already satisfied: pandas in /usr/local/lib/python3.11/dist-packages (2.2.2)\n",
            "Requirement already satisfied: matplotlib in /usr/local/lib/python3.11/dist-packages (3.10.0)\n",
            "Requirement already satisfied: seaborn in /usr/local/lib/python3.11/dist-packages (0.13.2)\n",
            "Requirement already satisfied: scikit-learn in /usr/local/lib/python3.11/dist-packages (1.6.1)\n",
            "Requirement already satisfied: python-dateutil>=2.8.2 in /usr/local/lib/python3.11/dist-packages (from pandas) (2.8.2)\n",
            "Requirement already satisfied: pytz>=2020.1 in /usr/local/lib/python3.11/dist-packages (from pandas) (2025.1)\n",
            "Requirement already satisfied: tzdata>=2022.7 in /usr/local/lib/python3.11/dist-packages (from pandas) (2025.1)\n",
            "Requirement already satisfied: contourpy>=1.0.1 in /usr/local/lib/python3.11/dist-packages (from matplotlib) (1.3.1)\n",
            "Requirement already satisfied: cycler>=0.10 in /usr/local/lib/python3.11/dist-packages (from matplotlib) (0.12.1)\n",
            "Requirement already satisfied: fonttools>=4.22.0 in /usr/local/lib/python3.11/dist-packages (from matplotlib) (4.56.0)\n",
            "Requirement already satisfied: kiwisolver>=1.3.1 in /usr/local/lib/python3.11/dist-packages (from matplotlib) (1.4.8)\n",
            "Requirement already satisfied: packaging>=20.0 in /usr/local/lib/python3.11/dist-packages (from matplotlib) (24.2)\n",
            "Requirement already satisfied: pillow>=8 in /usr/local/lib/python3.11/dist-packages (from matplotlib) (11.1.0)\n",
            "Requirement already satisfied: pyparsing>=2.3.1 in /usr/local/lib/python3.11/dist-packages (from matplotlib) (3.2.1)\n",
            "Requirement already satisfied: scipy>=1.6.0 in /usr/local/lib/python3.11/dist-packages (from scikit-learn) (1.13.1)\n",
            "Requirement already satisfied: joblib>=1.2.0 in /usr/local/lib/python3.11/dist-packages (from scikit-learn) (1.4.2)\n",
            "Requirement already satisfied: threadpoolctl>=3.1.0 in /usr/local/lib/python3.11/dist-packages (from scikit-learn) (3.5.0)\n",
            "Requirement already satisfied: six>=1.5 in /usr/local/lib/python3.11/dist-packages (from python-dateutil>=2.8.2->pandas) (1.17.0)\n"
          ]
        }
      ]
    },
    {
      "cell_type": "markdown",
      "source": [
        "# New Section"
      ],
      "metadata": {
        "id": "c2ExfgHtWojE"
      }
    },
    {
      "cell_type": "code",
      "source": [
        "#variabel nama mahasiswa\n",
        "import pandas as pd\n",
        "data = {'Nama' : ['Andi', 'Budi' , 'Siti', 'Dina' , 'Eko' , 'Fajar' , 'Gita' , 'Hadi' ,'Indah' ,'Joko'], 'Nilai' : [85, 90, 78, 95, 88, 76, 89, 92, 85, 80] }\n",
        "df = pd.DataFrame(data)\n",
        "\n",
        "print(df)"
      ],
      "metadata": {
        "colab": {
          "base_uri": "https://localhost:8080/"
        },
        "id": "Hn-dq93UlOyY",
        "outputId": "1f4d1ff6-6960-477d-da2d-50f29ce767f7"
      },
      "execution_count": null,
      "outputs": [
        {
          "output_type": "stream",
          "name": "stdout",
          "text": [
            "    Nama  Nilai\n",
            "0   Andi     85\n",
            "1   Budi     90\n",
            "2   Siti     78\n",
            "3   Dina     95\n",
            "4    Eko     88\n",
            "5  Fajar     76\n",
            "6   Gita     89\n",
            "7   Hadi     92\n",
            "8  Indah     85\n",
            "9   Joko     80\n"
          ]
        }
      ]
    },
    {
      "cell_type": "code",
      "source": [
        "import numpy as np\n",
        "\n",
        "\n",
        "rata_rata = df['Nilai'].mean()\n",
        "print(rata_rata)\n",
        "\n"
      ],
      "metadata": {
        "colab": {
          "base_uri": "https://localhost:8080/"
        },
        "id": "vGK4EB0wnfR9",
        "outputId": "3c067099-4ddd-400d-fcce-be22ba4491f4"
      },
      "execution_count": null,
      "outputs": [
        {
          "output_type": "stream",
          "name": "stdout",
          "text": [
            "85.8\n"
          ]
        }
      ]
    },
    {
      "cell_type": "code",
      "source": [
        "maximum = df['Nilai'].max()\n",
        "print(maximum)"
      ],
      "metadata": {
        "colab": {
          "base_uri": "https://localhost:8080/"
        },
        "id": "ThKLS63TqKXY",
        "outputId": "953d9508-2c68-4769-b771-ad348b290997"
      },
      "execution_count": null,
      "outputs": [
        {
          "output_type": "stream",
          "name": "stdout",
          "text": [
            "95\n"
          ]
        }
      ]
    },
    {
      "cell_type": "code",
      "source": [
        "minimum = df['Nilai'].min()\n",
        "print(minimum)"
      ],
      "metadata": {
        "colab": {
          "base_uri": "https://localhost:8080/"
        },
        "id": "5W-uWJ9mqXH9",
        "outputId": "5c08c596-8865-4421-a9a6-02f9bdf23c8b"
      },
      "execution_count": null,
      "outputs": [
        {
          "output_type": "stream",
          "name": "stdout",
          "text": [
            "76\n"
          ]
        }
      ]
    },
    {
      "cell_type": "code",
      "source": [
        "Mahasiswa_diatas_rata_rata = df[df['Nilai'] > rata_rata]\n",
        "print(Mahasiswa_diatas_rata_rata)"
      ],
      "metadata": {
        "colab": {
          "base_uri": "https://localhost:8080/"
        },
        "id": "dLxhY1JKqgZ1",
        "outputId": "dc42a43c-02fa-4f2f-a34b-5d06b9901497"
      },
      "execution_count": null,
      "outputs": [
        {
          "output_type": "stream",
          "name": "stdout",
          "text": [
            "   Nama  Nilai\n",
            "1  Budi     90\n",
            "3  Dina     95\n",
            "4   Eko     88\n",
            "6  Gita     89\n",
            "7  Hadi     92\n"
          ]
        }
      ]
    },
    {
      "cell_type": "markdown",
      "source": [
        "# **SOAL** **LATIHAN** **2**"
      ],
      "metadata": {
        "id": "jbugYg-7sin5"
      }
    },
    {
      "cell_type": "code",
      "source": [
        "import pandas as pd\n",
        "import numpy as np\n",
        "import matplotlib.pyplot as plt\n",
        "\n",
        "\n",
        "\n",
        "#MENGGUNAKAN DATA SEBAGAI INPUT DARI PROGRAM\n",
        "\n",
        "#dictionary\n",
        "data = {'Andi' : 85, 'Budi' : 74, 'Siti' : 92 , 'Diana' :50 , 'Eko' : 45, 'Fajar' :77 , 'Gita' :80 , 'Hadi' : 59 , 'Indah' :90, 'Joko' :6}\n",
        "print(data)"
      ],
      "metadata": {
        "colab": {
          "base_uri": "https://localhost:8080/"
        },
        "id": "qmWOVtStso6Z",
        "outputId": "77d4878d-fd9f-4edb-8555-caf12434c61f"
      },
      "execution_count": null,
      "outputs": [
        {
          "output_type": "stream",
          "name": "stdout",
          "text": [
            "{'Andi': 85, 'Budi': 74, 'Siti': 92, 'Diana': 50, 'Eko': 45, 'Fajar': 77, 'Gita': 80, 'Hadi': 59, 'Indah': 90, 'Joko': 6}\n"
          ]
        }
      ]
    },
    {
      "cell_type": "code",
      "source": [
        "#MENGGUNAKAN LOOP UNTUK MEMPROSES SETIAP MAHASISWA\n",
        "\n",
        "#Fungsi loop\n",
        "for Nama, Nilai in data.items():\n",
        "  print (f\" {Nama} : {Nilai}\")"
      ],
      "metadata": {
        "colab": {
          "base_uri": "https://localhost:8080/"
        },
        "id": "Z4zZjISywRuS",
        "outputId": "042764e8-6007-4e31-b836-d7d282f7144f"
      },
      "execution_count": null,
      "outputs": [
        {
          "output_type": "stream",
          "name": "stdout",
          "text": [
            " Andi : 85\n",
            " Budi : 74\n",
            " Siti : 92\n",
            " Diana : 50\n",
            " Eko : 45\n",
            " Fajar : 77\n",
            " Gita : 80\n",
            " Hadi : 59\n",
            " Indah : 90\n",
            " Joko : 6\n"
          ]
        }
      ]
    },
    {
      "cell_type": "code",
      "source": [
        "#Mengkonversikan nilai angka ke nilai huruf berdasarkan tabel\n",
        "#Fungsi loop\n",
        "\n",
        "#variabel baru\n",
        "hasil_ujian = {}\n",
        "jumlah_lulus = 0\n",
        "jumlah_tidak_lulus = 0\n",
        "\n",
        "\n",
        "for Nama, Nilai in data.items():\n",
        "\n",
        "\n",
        "  if 80<= Nilai <= 100:\n",
        "    Huruf =  \"A\"\n",
        "    Status = \"Lulus\"\n",
        "\n",
        "  elif 70 <= Nilai <=79:\n",
        "    Huruf =  \"B\"\n",
        "    Status = \"Lulus\"\n",
        "\n",
        "  elif 60 <= Nilai <=69:\n",
        "    Huruf =  \"C\"\n",
        "    Status = \"Lulus\"\n",
        "\n",
        "  elif 50 <= Nilai <=59:\n",
        "    Huruf = \"D\"\n",
        "    Status = \"Tidak Lulus\"\n",
        "\n",
        "  else :\n",
        "    Huruf = \"E\"\n",
        "    Status = \"Tidak Lulus\"\n",
        "\n",
        "\n",
        "  print(f\"{Nama} : {Nilai}  - Keteranga_huruf ({Huruf}) - Keterangan_kelulusan : {Status}\")\n",
        "\n",
        "  hasil_ujian[Nama] = {\n",
        "    \"Nilai\" : Nilai,\n",
        "    \"Huruf\" : Huruf,\n",
        "    \"Status\" : Status\n",
        "  }\n",
        "\n",
        "  if Status == \"Lulus\":\n",
        "    jumlah_lulus += 1\n",
        "\n",
        "  else :\n",
        "    jumlah_tidak_lulus += 1\n",
        "\n",
        "\n",
        "print(f\"{jumlah_lulus} Mahasiswa Lulus\")\n",
        "print(f\"{jumlah_tidak_lulus} Mahasiswa Tidak Lulus\")\n"
      ],
      "metadata": {
        "colab": {
          "base_uri": "https://localhost:8080/"
        },
        "id": "6QdjBCV-wsXf",
        "outputId": "0a2afb1b-5fdb-428f-db12-bc5008926f18"
      },
      "execution_count": null,
      "outputs": [
        {
          "output_type": "stream",
          "name": "stdout",
          "text": [
            "Andi : 85  - Keteranga_huruf (A) - Keterangan_kelulusan : Lulus\n",
            "Budi : 74  - Keteranga_huruf (B) - Keterangan_kelulusan : Lulus\n",
            "Siti : 92  - Keteranga_huruf (A) - Keterangan_kelulusan : Lulus\n",
            "Diana : 50  - Keteranga_huruf (D) - Keterangan_kelulusan : Tidak Lulus\n",
            "Eko : 45  - Keteranga_huruf (E) - Keterangan_kelulusan : Tidak Lulus\n",
            "Fajar : 77  - Keteranga_huruf (B) - Keterangan_kelulusan : Lulus\n",
            "Gita : 80  - Keteranga_huruf (A) - Keterangan_kelulusan : Lulus\n",
            "Hadi : 59  - Keteranga_huruf (D) - Keterangan_kelulusan : Tidak Lulus\n",
            "Indah : 90  - Keteranga_huruf (A) - Keterangan_kelulusan : Lulus\n",
            "Joko : 6  - Keteranga_huruf (E) - Keterangan_kelulusan : Tidak Lulus\n",
            "6 Mahasiswa Lulus\n",
            "4 Mahasiswa Tidak Lulus\n"
          ]
        }
      ]
    },
    {
      "cell_type": "markdown",
      "source": [
        "## **SOAL** **LATIHAN** **3**"
      ],
      "metadata": {
        "id": "XnR11EIISrKM"
      }
    },
    {
      "cell_type": "code",
      "source": [
        "#Baca data dari file CSVmenggunakan Pandas\n",
        "import pandas as pd\n",
        "\n",
        "#Baca data dari file CSVmenggunakan Pandas\n",
        "\n",
        "df = pd.read_csv('/content/Data Mahasiswa Rahma Uyun.csv', sep=';')\n",
        "df"
      ],
      "metadata": {
        "colab": {
          "base_uri": "https://localhost:8080/",
          "height": 363
        },
        "id": "QGJB2eQuTe75",
        "outputId": "cfed973f-57b7-4314-dbb2-d22987baee42"
      },
      "execution_count": null,
      "outputs": [
        {
          "output_type": "execute_result",
          "data": {
            "text/plain": [
              "    Nama      Jurusan  Nilai\n",
              "0   Andi  Informatika     85\n",
              "1   Budi      Ekonomi     78\n",
              "2   Siti   Matematika     90\n",
              "3   Dina  Informatika     95\n",
              "4    Eko      Ekonomi     88\n",
              "5  Fajar   Matematika     76\n",
              "6   Gita  Informatika     89\n",
              "7   Hadi      Ekonomi     92\n",
              "8  Indah   Matematika     85\n",
              "9   Joko  Informatika     80"
            ],
            "text/html": [
              "\n",
              "  <div id=\"df-f3580109-64c7-4d2e-ba3a-ccc109adb3f3\" class=\"colab-df-container\">\n",
              "    <div>\n",
              "<style scoped>\n",
              "    .dataframe tbody tr th:only-of-type {\n",
              "        vertical-align: middle;\n",
              "    }\n",
              "\n",
              "    .dataframe tbody tr th {\n",
              "        vertical-align: top;\n",
              "    }\n",
              "\n",
              "    .dataframe thead th {\n",
              "        text-align: right;\n",
              "    }\n",
              "</style>\n",
              "<table border=\"1\" class=\"dataframe\">\n",
              "  <thead>\n",
              "    <tr style=\"text-align: right;\">\n",
              "      <th></th>\n",
              "      <th>Nama</th>\n",
              "      <th>Jurusan</th>\n",
              "      <th>Nilai</th>\n",
              "    </tr>\n",
              "  </thead>\n",
              "  <tbody>\n",
              "    <tr>\n",
              "      <th>0</th>\n",
              "      <td>Andi</td>\n",
              "      <td>Informatika</td>\n",
              "      <td>85</td>\n",
              "    </tr>\n",
              "    <tr>\n",
              "      <th>1</th>\n",
              "      <td>Budi</td>\n",
              "      <td>Ekonomi</td>\n",
              "      <td>78</td>\n",
              "    </tr>\n",
              "    <tr>\n",
              "      <th>2</th>\n",
              "      <td>Siti</td>\n",
              "      <td>Matematika</td>\n",
              "      <td>90</td>\n",
              "    </tr>\n",
              "    <tr>\n",
              "      <th>3</th>\n",
              "      <td>Dina</td>\n",
              "      <td>Informatika</td>\n",
              "      <td>95</td>\n",
              "    </tr>\n",
              "    <tr>\n",
              "      <th>4</th>\n",
              "      <td>Eko</td>\n",
              "      <td>Ekonomi</td>\n",
              "      <td>88</td>\n",
              "    </tr>\n",
              "    <tr>\n",
              "      <th>5</th>\n",
              "      <td>Fajar</td>\n",
              "      <td>Matematika</td>\n",
              "      <td>76</td>\n",
              "    </tr>\n",
              "    <tr>\n",
              "      <th>6</th>\n",
              "      <td>Gita</td>\n",
              "      <td>Informatika</td>\n",
              "      <td>89</td>\n",
              "    </tr>\n",
              "    <tr>\n",
              "      <th>7</th>\n",
              "      <td>Hadi</td>\n",
              "      <td>Ekonomi</td>\n",
              "      <td>92</td>\n",
              "    </tr>\n",
              "    <tr>\n",
              "      <th>8</th>\n",
              "      <td>Indah</td>\n",
              "      <td>Matematika</td>\n",
              "      <td>85</td>\n",
              "    </tr>\n",
              "    <tr>\n",
              "      <th>9</th>\n",
              "      <td>Joko</td>\n",
              "      <td>Informatika</td>\n",
              "      <td>80</td>\n",
              "    </tr>\n",
              "  </tbody>\n",
              "</table>\n",
              "</div>\n",
              "    <div class=\"colab-df-buttons\">\n",
              "\n",
              "  <div class=\"colab-df-container\">\n",
              "    <button class=\"colab-df-convert\" onclick=\"convertToInteractive('df-f3580109-64c7-4d2e-ba3a-ccc109adb3f3')\"\n",
              "            title=\"Convert this dataframe to an interactive table.\"\n",
              "            style=\"display:none;\">\n",
              "\n",
              "  <svg xmlns=\"http://www.w3.org/2000/svg\" height=\"24px\" viewBox=\"0 -960 960 960\">\n",
              "    <path d=\"M120-120v-720h720v720H120Zm60-500h600v-160H180v160Zm220 220h160v-160H400v160Zm0 220h160v-160H400v160ZM180-400h160v-160H180v160Zm440 0h160v-160H620v160ZM180-180h160v-160H180v160Zm440 0h160v-160H620v160Z\"/>\n",
              "  </svg>\n",
              "    </button>\n",
              "\n",
              "  <style>\n",
              "    .colab-df-container {\n",
              "      display:flex;\n",
              "      gap: 12px;\n",
              "    }\n",
              "\n",
              "    .colab-df-convert {\n",
              "      background-color: #E8F0FE;\n",
              "      border: none;\n",
              "      border-radius: 50%;\n",
              "      cursor: pointer;\n",
              "      display: none;\n",
              "      fill: #1967D2;\n",
              "      height: 32px;\n",
              "      padding: 0 0 0 0;\n",
              "      width: 32px;\n",
              "    }\n",
              "\n",
              "    .colab-df-convert:hover {\n",
              "      background-color: #E2EBFA;\n",
              "      box-shadow: 0px 1px 2px rgba(60, 64, 67, 0.3), 0px 1px 3px 1px rgba(60, 64, 67, 0.15);\n",
              "      fill: #174EA6;\n",
              "    }\n",
              "\n",
              "    .colab-df-buttons div {\n",
              "      margin-bottom: 4px;\n",
              "    }\n",
              "\n",
              "    [theme=dark] .colab-df-convert {\n",
              "      background-color: #3B4455;\n",
              "      fill: #D2E3FC;\n",
              "    }\n",
              "\n",
              "    [theme=dark] .colab-df-convert:hover {\n",
              "      background-color: #434B5C;\n",
              "      box-shadow: 0px 1px 3px 1px rgba(0, 0, 0, 0.15);\n",
              "      filter: drop-shadow(0px 1px 2px rgba(0, 0, 0, 0.3));\n",
              "      fill: #FFFFFF;\n",
              "    }\n",
              "  </style>\n",
              "\n",
              "    <script>\n",
              "      const buttonEl =\n",
              "        document.querySelector('#df-f3580109-64c7-4d2e-ba3a-ccc109adb3f3 button.colab-df-convert');\n",
              "      buttonEl.style.display =\n",
              "        google.colab.kernel.accessAllowed ? 'block' : 'none';\n",
              "\n",
              "      async function convertToInteractive(key) {\n",
              "        const element = document.querySelector('#df-f3580109-64c7-4d2e-ba3a-ccc109adb3f3');\n",
              "        const dataTable =\n",
              "          await google.colab.kernel.invokeFunction('convertToInteractive',\n",
              "                                                    [key], {});\n",
              "        if (!dataTable) return;\n",
              "\n",
              "        const docLinkHtml = 'Like what you see? Visit the ' +\n",
              "          '<a target=\"_blank\" href=https://colab.research.google.com/notebooks/data_table.ipynb>data table notebook</a>'\n",
              "          + ' to learn more about interactive tables.';\n",
              "        element.innerHTML = '';\n",
              "        dataTable['output_type'] = 'display_data';\n",
              "        await google.colab.output.renderOutput(dataTable, element);\n",
              "        const docLink = document.createElement('div');\n",
              "        docLink.innerHTML = docLinkHtml;\n",
              "        element.appendChild(docLink);\n",
              "      }\n",
              "    </script>\n",
              "  </div>\n",
              "\n",
              "\n",
              "<div id=\"df-0a30a432-c1cd-439c-a960-60e3c0245564\">\n",
              "  <button class=\"colab-df-quickchart\" onclick=\"quickchart('df-0a30a432-c1cd-439c-a960-60e3c0245564')\"\n",
              "            title=\"Suggest charts\"\n",
              "            style=\"display:none;\">\n",
              "\n",
              "<svg xmlns=\"http://www.w3.org/2000/svg\" height=\"24px\"viewBox=\"0 0 24 24\"\n",
              "     width=\"24px\">\n",
              "    <g>\n",
              "        <path d=\"M19 3H5c-1.1 0-2 .9-2 2v14c0 1.1.9 2 2 2h14c1.1 0 2-.9 2-2V5c0-1.1-.9-2-2-2zM9 17H7v-7h2v7zm4 0h-2V7h2v10zm4 0h-2v-4h2v4z\"/>\n",
              "    </g>\n",
              "</svg>\n",
              "  </button>\n",
              "\n",
              "<style>\n",
              "  .colab-df-quickchart {\n",
              "      --bg-color: #E8F0FE;\n",
              "      --fill-color: #1967D2;\n",
              "      --hover-bg-color: #E2EBFA;\n",
              "      --hover-fill-color: #174EA6;\n",
              "      --disabled-fill-color: #AAA;\n",
              "      --disabled-bg-color: #DDD;\n",
              "  }\n",
              "\n",
              "  [theme=dark] .colab-df-quickchart {\n",
              "      --bg-color: #3B4455;\n",
              "      --fill-color: #D2E3FC;\n",
              "      --hover-bg-color: #434B5C;\n",
              "      --hover-fill-color: #FFFFFF;\n",
              "      --disabled-bg-color: #3B4455;\n",
              "      --disabled-fill-color: #666;\n",
              "  }\n",
              "\n",
              "  .colab-df-quickchart {\n",
              "    background-color: var(--bg-color);\n",
              "    border: none;\n",
              "    border-radius: 50%;\n",
              "    cursor: pointer;\n",
              "    display: none;\n",
              "    fill: var(--fill-color);\n",
              "    height: 32px;\n",
              "    padding: 0;\n",
              "    width: 32px;\n",
              "  }\n",
              "\n",
              "  .colab-df-quickchart:hover {\n",
              "    background-color: var(--hover-bg-color);\n",
              "    box-shadow: 0 1px 2px rgba(60, 64, 67, 0.3), 0 1px 3px 1px rgba(60, 64, 67, 0.15);\n",
              "    fill: var(--button-hover-fill-color);\n",
              "  }\n",
              "\n",
              "  .colab-df-quickchart-complete:disabled,\n",
              "  .colab-df-quickchart-complete:disabled:hover {\n",
              "    background-color: var(--disabled-bg-color);\n",
              "    fill: var(--disabled-fill-color);\n",
              "    box-shadow: none;\n",
              "  }\n",
              "\n",
              "  .colab-df-spinner {\n",
              "    border: 2px solid var(--fill-color);\n",
              "    border-color: transparent;\n",
              "    border-bottom-color: var(--fill-color);\n",
              "    animation:\n",
              "      spin 1s steps(1) infinite;\n",
              "  }\n",
              "\n",
              "  @keyframes spin {\n",
              "    0% {\n",
              "      border-color: transparent;\n",
              "      border-bottom-color: var(--fill-color);\n",
              "      border-left-color: var(--fill-color);\n",
              "    }\n",
              "    20% {\n",
              "      border-color: transparent;\n",
              "      border-left-color: var(--fill-color);\n",
              "      border-top-color: var(--fill-color);\n",
              "    }\n",
              "    30% {\n",
              "      border-color: transparent;\n",
              "      border-left-color: var(--fill-color);\n",
              "      border-top-color: var(--fill-color);\n",
              "      border-right-color: var(--fill-color);\n",
              "    }\n",
              "    40% {\n",
              "      border-color: transparent;\n",
              "      border-right-color: var(--fill-color);\n",
              "      border-top-color: var(--fill-color);\n",
              "    }\n",
              "    60% {\n",
              "      border-color: transparent;\n",
              "      border-right-color: var(--fill-color);\n",
              "    }\n",
              "    80% {\n",
              "      border-color: transparent;\n",
              "      border-right-color: var(--fill-color);\n",
              "      border-bottom-color: var(--fill-color);\n",
              "    }\n",
              "    90% {\n",
              "      border-color: transparent;\n",
              "      border-bottom-color: var(--fill-color);\n",
              "    }\n",
              "  }\n",
              "</style>\n",
              "\n",
              "  <script>\n",
              "    async function quickchart(key) {\n",
              "      const quickchartButtonEl =\n",
              "        document.querySelector('#' + key + ' button');\n",
              "      quickchartButtonEl.disabled = true;  // To prevent multiple clicks.\n",
              "      quickchartButtonEl.classList.add('colab-df-spinner');\n",
              "      try {\n",
              "        const charts = await google.colab.kernel.invokeFunction(\n",
              "            'suggestCharts', [key], {});\n",
              "      } catch (error) {\n",
              "        console.error('Error during call to suggestCharts:', error);\n",
              "      }\n",
              "      quickchartButtonEl.classList.remove('colab-df-spinner');\n",
              "      quickchartButtonEl.classList.add('colab-df-quickchart-complete');\n",
              "    }\n",
              "    (() => {\n",
              "      let quickchartButtonEl =\n",
              "        document.querySelector('#df-0a30a432-c1cd-439c-a960-60e3c0245564 button');\n",
              "      quickchartButtonEl.style.display =\n",
              "        google.colab.kernel.accessAllowed ? 'block' : 'none';\n",
              "    })();\n",
              "  </script>\n",
              "</div>\n",
              "\n",
              "  <div id=\"id_8d50513e-f879-4816-95e0-b4922ef5d699\">\n",
              "    <style>\n",
              "      .colab-df-generate {\n",
              "        background-color: #E8F0FE;\n",
              "        border: none;\n",
              "        border-radius: 50%;\n",
              "        cursor: pointer;\n",
              "        display: none;\n",
              "        fill: #1967D2;\n",
              "        height: 32px;\n",
              "        padding: 0 0 0 0;\n",
              "        width: 32px;\n",
              "      }\n",
              "\n",
              "      .colab-df-generate:hover {\n",
              "        background-color: #E2EBFA;\n",
              "        box-shadow: 0px 1px 2px rgba(60, 64, 67, 0.3), 0px 1px 3px 1px rgba(60, 64, 67, 0.15);\n",
              "        fill: #174EA6;\n",
              "      }\n",
              "\n",
              "      [theme=dark] .colab-df-generate {\n",
              "        background-color: #3B4455;\n",
              "        fill: #D2E3FC;\n",
              "      }\n",
              "\n",
              "      [theme=dark] .colab-df-generate:hover {\n",
              "        background-color: #434B5C;\n",
              "        box-shadow: 0px 1px 3px 1px rgba(0, 0, 0, 0.15);\n",
              "        filter: drop-shadow(0px 1px 2px rgba(0, 0, 0, 0.3));\n",
              "        fill: #FFFFFF;\n",
              "      }\n",
              "    </style>\n",
              "    <button class=\"colab-df-generate\" onclick=\"generateWithVariable('df')\"\n",
              "            title=\"Generate code using this dataframe.\"\n",
              "            style=\"display:none;\">\n",
              "\n",
              "  <svg xmlns=\"http://www.w3.org/2000/svg\" height=\"24px\"viewBox=\"0 0 24 24\"\n",
              "       width=\"24px\">\n",
              "    <path d=\"M7,19H8.4L18.45,9,17,7.55,7,17.6ZM5,21V16.75L18.45,3.32a2,2,0,0,1,2.83,0l1.4,1.43a1.91,1.91,0,0,1,.58,1.4,1.91,1.91,0,0,1-.58,1.4L9.25,21ZM18.45,9,17,7.55Zm-12,3A5.31,5.31,0,0,0,4.9,8.1,5.31,5.31,0,0,0,1,6.5,5.31,5.31,0,0,0,4.9,4.9,5.31,5.31,0,0,0,6.5,1,5.31,5.31,0,0,0,8.1,4.9,5.31,5.31,0,0,0,12,6.5,5.46,5.46,0,0,0,6.5,12Z\"/>\n",
              "  </svg>\n",
              "    </button>\n",
              "    <script>\n",
              "      (() => {\n",
              "      const buttonEl =\n",
              "        document.querySelector('#id_8d50513e-f879-4816-95e0-b4922ef5d699 button.colab-df-generate');\n",
              "      buttonEl.style.display =\n",
              "        google.colab.kernel.accessAllowed ? 'block' : 'none';\n",
              "\n",
              "      buttonEl.onclick = () => {\n",
              "        google.colab.notebook.generateWithVariable('df');\n",
              "      }\n",
              "      })();\n",
              "    </script>\n",
              "  </div>\n",
              "\n",
              "    </div>\n",
              "  </div>\n"
            ],
            "application/vnd.google.colaboratory.intrinsic+json": {
              "type": "dataframe",
              "variable_name": "df",
              "summary": "{\n  \"name\": \"df\",\n  \"rows\": 10,\n  \"fields\": [\n    {\n      \"column\": \"Nama\",\n      \"properties\": {\n        \"dtype\": \"string\",\n        \"num_unique_values\": 10,\n        \"samples\": [\n          \"Indah\",\n          \"Budi\",\n          \"Fajar\"\n        ],\n        \"semantic_type\": \"\",\n        \"description\": \"\"\n      }\n    },\n    {\n      \"column\": \"Jurusan\",\n      \"properties\": {\n        \"dtype\": \"category\",\n        \"num_unique_values\": 3,\n        \"samples\": [\n          \"Informatika\",\n          \"Ekonomi\",\n          \"Matematika\"\n        ],\n        \"semantic_type\": \"\",\n        \"description\": \"\"\n      }\n    },\n    {\n      \"column\": \"Nilai\",\n      \"properties\": {\n        \"dtype\": \"number\",\n        \"std\": 6,\n        \"min\": 76,\n        \"max\": 95,\n        \"num_unique_values\": 9,\n        \"samples\": [\n          92,\n          78,\n          76\n        ],\n        \"semantic_type\": \"\",\n        \"description\": \"\"\n      }\n    }\n  ]\n}"
            }
          },
          "metadata": {},
          "execution_count": 103
        }
      ]
    },
    {
      "cell_type": "code",
      "source": [],
      "metadata": {
        "id": "XIamjaBJe2mV"
      },
      "execution_count": null,
      "outputs": []
    },
    {
      "cell_type": "code",
      "source": [
        "#Menampilkan rata-rata nilai seluruh mahasiswa\n",
        "\n",
        "Rata_Rata = df['Nilai'].mean()\n",
        "print ('Rata_Rata_Nilai : ' , Rata_Rata)"
      ],
      "metadata": {
        "colab": {
          "base_uri": "https://localhost:8080/"
        },
        "id": "orEtKaNMWEbc",
        "outputId": "b05d0692-8fce-46d6-9b9c-1934c24afbc6"
      },
      "execution_count": null,
      "outputs": [
        {
          "output_type": "stream",
          "name": "stdout",
          "text": [
            "Rata_Rata_Nilai :  85.8\n"
          ]
        }
      ]
    },
    {
      "cell_type": "code",
      "source": [
        "#Menampikan jumlah mahasiswa per jurusan\n",
        "\n",
        "Jumlah_Mahasiswa_per_Jurusan = df['Jurusan'].value_counts()\n",
        "print(Jumlah_Mahasiswa_per_Jurusan)"
      ],
      "metadata": {
        "colab": {
          "base_uri": "https://localhost:8080/"
        },
        "id": "9dQc5TfGZ3Gd",
        "outputId": "9c01d832-aee2-4a23-bd3a-4d94fa8fe6d7"
      },
      "execution_count": null,
      "outputs": [
        {
          "output_type": "stream",
          "name": "stdout",
          "text": [
            "Jurusan\n",
            "Informatika    4\n",
            "Ekonomi        3\n",
            "Matematika     3\n",
            "Name: count, dtype: int64\n"
          ]
        }
      ]
    },
    {
      "cell_type": "code",
      "source": [
        "#Menampilkan Mahasiswa dengan nilai tertinggi di setiap jurusan\n",
        "\n",
        "Nilai_Tertinggi_di_Setiap_Jurusan = df.loc[df.groupby('Jurusan')['Nilai'].idxmax()]\n",
        "print(Nilai_Tertinggi_di_Setiap_Jurusan)"
      ],
      "metadata": {
        "colab": {
          "base_uri": "https://localhost:8080/"
        },
        "id": "KT7EovyUbA2L",
        "outputId": "f9ee6eac-5a40-42a5-d6b8-2a31b0b76b32"
      },
      "execution_count": null,
      "outputs": [
        {
          "output_type": "stream",
          "name": "stdout",
          "text": [
            "   Nama      Jurusan  Nilai\n",
            "7  Hadi      Ekonomi     92\n",
            "3  Dina  Informatika     95\n",
            "2  Siti   Matematika     90\n"
          ]
        }
      ]
    }
  ]
}